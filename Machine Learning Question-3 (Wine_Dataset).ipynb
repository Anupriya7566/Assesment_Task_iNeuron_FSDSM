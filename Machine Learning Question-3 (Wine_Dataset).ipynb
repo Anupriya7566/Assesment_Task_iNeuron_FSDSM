{
 "cells": [
  {
   "cell_type": "code",
   "execution_count": 2,
   "id": "aedeb3dc",
   "metadata": {},
   "outputs": [],
   "source": [
    "from sklearn.datasets import load_wine\n",
    "from sklearn.model_selection import train_test_split, RandomizedSearchCV, ShuffleSplit\n",
    "from sklearn.tree import DecisionTreeClassifier\n",
    "from sklearn.ensemble import RandomForestClassifier\n",
    "from sklearn.metrics import accuracy_score\n",
    "from scipy.stats import randint\n",
    "import numpy as np"
   ]
  },
  {
   "cell_type": "code",
   "execution_count": 4,
   "id": "1fff2a0e",
   "metadata": {},
   "outputs": [],
   "source": [
    "#Load the wine dataset\n",
    "wine_data = load_wine()\n",
    "X, y = wine_data.data, wine_data.target\n"
   ]
  },
  {
   "cell_type": "code",
   "execution_count": 5,
   "id": "4e822e39",
   "metadata": {},
   "outputs": [
    {
     "data": {
      "text/plain": [
       "array([[1.423e+01, 1.710e+00, 2.430e+00, ..., 1.040e+00, 3.920e+00,\n",
       "        1.065e+03],\n",
       "       [1.320e+01, 1.780e+00, 2.140e+00, ..., 1.050e+00, 3.400e+00,\n",
       "        1.050e+03],\n",
       "       [1.316e+01, 2.360e+00, 2.670e+00, ..., 1.030e+00, 3.170e+00,\n",
       "        1.185e+03],\n",
       "       ...,\n",
       "       [1.327e+01, 4.280e+00, 2.260e+00, ..., 5.900e-01, 1.560e+00,\n",
       "        8.350e+02],\n",
       "       [1.317e+01, 2.590e+00, 2.370e+00, ..., 6.000e-01, 1.620e+00,\n",
       "        8.400e+02],\n",
       "       [1.413e+01, 4.100e+00, 2.740e+00, ..., 6.100e-01, 1.600e+00,\n",
       "        5.600e+02]])"
      ]
     },
     "execution_count": 5,
     "metadata": {},
     "output_type": "execute_result"
    }
   ],
   "source": [
    "X"
   ]
  },
  {
   "cell_type": "code",
   "execution_count": 6,
   "id": "1103c9de",
   "metadata": {},
   "outputs": [
    {
     "data": {
      "text/plain": [
       "array([0, 0, 0, 0, 0, 0, 0, 0, 0, 0, 0, 0, 0, 0, 0, 0, 0, 0, 0, 0, 0, 0,\n",
       "       0, 0, 0, 0, 0, 0, 0, 0, 0, 0, 0, 0, 0, 0, 0, 0, 0, 0, 0, 0, 0, 0,\n",
       "       0, 0, 0, 0, 0, 0, 0, 0, 0, 0, 0, 0, 0, 0, 0, 1, 1, 1, 1, 1, 1, 1,\n",
       "       1, 1, 1, 1, 1, 1, 1, 1, 1, 1, 1, 1, 1, 1, 1, 1, 1, 1, 1, 1, 1, 1,\n",
       "       1, 1, 1, 1, 1, 1, 1, 1, 1, 1, 1, 1, 1, 1, 1, 1, 1, 1, 1, 1, 1, 1,\n",
       "       1, 1, 1, 1, 1, 1, 1, 1, 1, 1, 1, 1, 1, 1, 1, 1, 1, 1, 1, 1, 2, 2,\n",
       "       2, 2, 2, 2, 2, 2, 2, 2, 2, 2, 2, 2, 2, 2, 2, 2, 2, 2, 2, 2, 2, 2,\n",
       "       2, 2, 2, 2, 2, 2, 2, 2, 2, 2, 2, 2, 2, 2, 2, 2, 2, 2, 2, 2, 2, 2,\n",
       "       2, 2])"
      ]
     },
     "execution_count": 6,
     "metadata": {},
     "output_type": "execute_result"
    }
   ],
   "source": [
    "y"
   ]
  },
  {
   "cell_type": "code",
   "execution_count": 11,
   "id": "96dadd04",
   "metadata": {},
   "outputs": [],
   "source": [
    "#Split the dataset into train and test dataset\n",
    "X_train, X_test, y_train, y_test = train_test_split(X, y, test_size=0.2, random_state=42)"
   ]
  },
  {
   "cell_type": "code",
   "execution_count": 12,
   "id": "74582915",
   "metadata": {},
   "outputs": [
    {
     "data": {
      "text/plain": [
       "array([[1.434e+01, 1.680e+00, 2.700e+00, ..., 5.700e-01, 1.960e+00,\n",
       "        6.600e+02],\n",
       "       [1.253e+01, 5.510e+00, 2.640e+00, ..., 8.200e-01, 1.690e+00,\n",
       "        5.150e+02],\n",
       "       [1.237e+01, 1.070e+00, 2.100e+00, ..., 1.040e+00, 2.770e+00,\n",
       "        6.600e+02],\n",
       "       ...,\n",
       "       [1.438e+01, 1.870e+00, 2.380e+00, ..., 1.200e+00, 3.000e+00,\n",
       "        1.547e+03],\n",
       "       [1.269e+01, 1.530e+00, 2.260e+00, ..., 9.600e-01, 2.060e+00,\n",
       "        4.950e+02],\n",
       "       [1.234e+01, 2.450e+00, 2.460e+00, ..., 8.000e-01, 3.380e+00,\n",
       "        4.380e+02]])"
      ]
     },
     "execution_count": 12,
     "metadata": {},
     "output_type": "execute_result"
    }
   ],
   "source": [
    "X_train"
   ]
  },
  {
   "cell_type": "code",
   "execution_count": 13,
   "id": "4fae5b67",
   "metadata": {},
   "outputs": [
    {
     "data": {
      "text/plain": [
       "array([2, 2, 1, 2, 0, 1, 1, 1, 2, 0, 1, 1, 2, 0, 1, 0, 0, 2, 2, 1, 1, 0,\n",
       "       1, 0, 2, 1, 1, 2, 0, 0, 0, 2, 0, 0, 1, 2, 1, 0, 2, 1, 0, 2, 1, 1,\n",
       "       0, 1, 0, 0, 1, 0, 0, 2, 1, 1, 1, 0, 1, 1, 1, 2, 2, 0, 1, 2, 2, 1,\n",
       "       1, 0, 1, 2, 2, 1, 2, 1, 1, 1, 0, 0, 2, 0, 2, 0, 0, 1, 1, 0, 0, 0,\n",
       "       1, 0, 1, 2, 1, 1, 1, 2, 2, 1, 0, 0, 1, 2, 2, 0, 1, 2, 2, 2, 2, 1,\n",
       "       0, 1, 0, 2, 0, 0, 1, 0, 0, 2, 1, 0, 2, 2, 0, 0, 2, 2, 2, 1, 1, 1,\n",
       "       1, 1, 1, 2, 0, 1, 1, 0, 1, 1])"
      ]
     },
     "execution_count": 13,
     "metadata": {},
     "output_type": "execute_result"
    }
   ],
   "source": [
    "y_train"
   ]
  },
  {
   "cell_type": "code",
   "execution_count": 14,
   "id": "a2fa4102",
   "metadata": {},
   "outputs": [
    {
     "data": {
      "text/plain": [
       "array([[1.364000e+01, 3.100000e+00, 2.560000e+00, 1.520000e+01,\n",
       "        1.160000e+02, 2.700000e+00, 3.030000e+00, 1.700000e-01,\n",
       "        1.660000e+00, 5.100000e+00, 9.600000e-01, 3.360000e+00,\n",
       "        8.450000e+02],\n",
       "       [1.421000e+01, 4.040000e+00, 2.440000e+00, 1.890000e+01,\n",
       "        1.110000e+02, 2.850000e+00, 2.650000e+00, 3.000000e-01,\n",
       "        1.250000e+00, 5.240000e+00, 8.700000e-01, 3.330000e+00,\n",
       "        1.080000e+03],\n",
       "       [1.293000e+01, 2.810000e+00, 2.700000e+00, 2.100000e+01,\n",
       "        9.600000e+01, 1.540000e+00, 5.000000e-01, 5.300000e-01,\n",
       "        7.500000e-01, 4.600000e+00, 7.700000e-01, 2.310000e+00,\n",
       "        6.000000e+02],\n",
       "       [1.373000e+01, 1.500000e+00, 2.700000e+00, 2.250000e+01,\n",
       "        1.010000e+02, 3.000000e+00, 3.250000e+00, 2.900000e-01,\n",
       "        2.380000e+00, 5.700000e+00, 1.190000e+00, 2.710000e+00,\n",
       "        1.285000e+03],\n",
       "       [1.237000e+01, 1.170000e+00, 1.920000e+00, 1.960000e+01,\n",
       "        7.800000e+01, 2.110000e+00, 2.000000e+00, 2.700000e-01,\n",
       "        1.040000e+00, 4.680000e+00, 1.120000e+00, 3.480000e+00,\n",
       "        5.100000e+02],\n",
       "       [1.430000e+01, 1.920000e+00, 2.720000e+00, 2.000000e+01,\n",
       "        1.200000e+02, 2.800000e+00, 3.140000e+00, 3.300000e-01,\n",
       "        1.970000e+00, 6.200000e+00, 1.070000e+00, 2.650000e+00,\n",
       "        1.280000e+03],\n",
       "       [1.200000e+01, 3.430000e+00, 2.000000e+00, 1.900000e+01,\n",
       "        8.700000e+01, 2.000000e+00, 1.640000e+00, 3.700000e-01,\n",
       "        1.870000e+00, 1.280000e+00, 9.300000e-01, 3.050000e+00,\n",
       "        5.640000e+02],\n",
       "       [1.340000e+01, 3.910000e+00, 2.480000e+00, 2.300000e+01,\n",
       "        1.020000e+02, 1.800000e+00, 7.500000e-01, 4.300000e-01,\n",
       "        1.410000e+00, 7.300000e+00, 7.000000e-01, 1.560000e+00,\n",
       "        7.500000e+02],\n",
       "       [1.161000e+01, 1.350000e+00, 2.700000e+00, 2.000000e+01,\n",
       "        9.400000e+01, 2.740000e+00, 2.920000e+00, 2.900000e-01,\n",
       "        2.490000e+00, 2.650000e+00, 9.600000e-01, 3.260000e+00,\n",
       "        6.800000e+02],\n",
       "       [1.336000e+01, 2.560000e+00, 2.350000e+00, 2.000000e+01,\n",
       "        8.900000e+01, 1.400000e+00, 5.000000e-01, 3.700000e-01,\n",
       "        6.400000e-01, 5.600000e+00, 7.000000e-01, 2.470000e+00,\n",
       "        7.800000e+02],\n",
       "       [1.350000e+01, 1.810000e+00, 2.610000e+00, 2.000000e+01,\n",
       "        9.600000e+01, 2.530000e+00, 2.610000e+00, 2.800000e-01,\n",
       "        1.660000e+00, 3.520000e+00, 1.120000e+00, 3.820000e+00,\n",
       "        8.450000e+02],\n",
       "       [1.350000e+01, 3.120000e+00, 2.620000e+00, 2.400000e+01,\n",
       "        1.230000e+02, 1.400000e+00, 1.570000e+00, 2.200000e-01,\n",
       "        1.250000e+00, 8.600000e+00, 5.900000e-01, 1.300000e+00,\n",
       "        5.000000e+02],\n",
       "       [1.341000e+01, 3.840000e+00, 2.120000e+00, 1.880000e+01,\n",
       "        9.000000e+01, 2.450000e+00, 2.680000e+00, 2.700000e-01,\n",
       "        1.480000e+00, 4.280000e+00, 9.100000e-01, 3.000000e+00,\n",
       "        1.035000e+03],\n",
       "       [1.277000e+01, 3.430000e+00, 1.980000e+00, 1.600000e+01,\n",
       "        8.000000e+01, 1.630000e+00, 1.250000e+00, 4.300000e-01,\n",
       "        8.300000e-01, 3.400000e+00, 7.000000e-01, 2.120000e+00,\n",
       "        3.720000e+02],\n",
       "       [1.363000e+01, 1.810000e+00, 2.700000e+00, 1.720000e+01,\n",
       "        1.120000e+02, 2.850000e+00, 2.910000e+00, 3.000000e-01,\n",
       "        1.460000e+00, 7.300000e+00, 1.280000e+00, 2.880000e+00,\n",
       "        1.310000e+03],\n",
       "       [1.252000e+01, 2.430000e+00, 2.170000e+00, 2.100000e+01,\n",
       "        8.800000e+01, 2.550000e+00, 2.270000e+00, 2.600000e-01,\n",
       "        1.220000e+00, 2.000000e+00, 9.000000e-01, 2.780000e+00,\n",
       "        3.250000e+02],\n",
       "       [1.141000e+01, 7.400000e-01, 2.500000e+00, 2.100000e+01,\n",
       "        8.800000e+01, 2.480000e+00, 2.010000e+00, 4.200000e-01,\n",
       "        1.440000e+00, 3.080000e+00, 1.100000e+00, 2.310000e+00,\n",
       "        4.340000e+02],\n",
       "       [1.208000e+01, 1.130000e+00, 2.510000e+00, 2.400000e+01,\n",
       "        7.800000e+01, 2.000000e+00, 1.580000e+00, 4.000000e-01,\n",
       "        1.400000e+00, 2.200000e+00, 1.310000e+00, 2.720000e+00,\n",
       "        6.300000e+02],\n",
       "       [1.386000e+01, 1.350000e+00, 2.270000e+00, 1.600000e+01,\n",
       "        9.800000e+01, 2.980000e+00, 3.150000e+00, 2.200000e-01,\n",
       "        1.850000e+00, 7.220000e+00, 1.010000e+00, 3.550000e+00,\n",
       "        1.045000e+03],\n",
       "       [1.208000e+01, 1.390000e+00, 2.500000e+00, 2.250000e+01,\n",
       "        8.400000e+01, 2.560000e+00, 2.290000e+00, 4.300000e-01,\n",
       "        1.040000e+00, 2.900000e+00, 9.300000e-01, 3.190000e+00,\n",
       "        3.850000e+02],\n",
       "       [1.419000e+01, 1.590000e+00, 2.480000e+00, 1.650000e+01,\n",
       "        1.080000e+02, 3.300000e+00, 3.930000e+00, 3.200000e-01,\n",
       "        1.860000e+00, 8.700000e+00, 1.230000e+00, 2.820000e+00,\n",
       "        1.680000e+03],\n",
       "       [1.311000e+01, 1.010000e+00, 1.700000e+00, 1.500000e+01,\n",
       "        7.800000e+01, 2.980000e+00, 3.180000e+00, 2.600000e-01,\n",
       "        2.280000e+00, 5.300000e+00, 1.120000e+00, 3.180000e+00,\n",
       "        5.020000e+02],\n",
       "       [1.233000e+01, 1.100000e+00, 2.280000e+00, 1.600000e+01,\n",
       "        1.010000e+02, 2.050000e+00, 1.090000e+00, 6.300000e-01,\n",
       "        4.100000e-01, 3.270000e+00, 1.250000e+00, 1.670000e+00,\n",
       "        6.800000e+02],\n",
       "       [1.340000e+01, 4.600000e+00, 2.860000e+00, 2.500000e+01,\n",
       "        1.120000e+02, 1.980000e+00, 9.600000e-01, 2.700000e-01,\n",
       "        1.110000e+00, 8.500000e+00, 6.700000e-01, 1.920000e+00,\n",
       "        6.300000e+02],\n",
       "       [1.277000e+01, 2.390000e+00, 2.280000e+00, 1.950000e+01,\n",
       "        8.600000e+01, 1.390000e+00, 5.100000e-01, 4.800000e-01,\n",
       "        6.400000e-01, 9.899999e+00, 5.700000e-01, 1.630000e+00,\n",
       "        4.700000e+02],\n",
       "       [1.378000e+01, 2.760000e+00, 2.300000e+00, 2.200000e+01,\n",
       "        9.000000e+01, 1.350000e+00, 6.800000e-01, 4.100000e-01,\n",
       "        1.030000e+00, 9.580000e+00, 7.000000e-01, 1.680000e+00,\n",
       "        6.150000e+02],\n",
       "       [1.242000e+01, 1.610000e+00, 2.190000e+00, 2.250000e+01,\n",
       "        1.080000e+02, 2.000000e+00, 2.090000e+00, 3.400000e-01,\n",
       "        1.610000e+00, 2.060000e+00, 1.060000e+00, 2.960000e+00,\n",
       "        3.450000e+02],\n",
       "       [1.237000e+01, 1.210000e+00, 2.560000e+00, 1.810000e+01,\n",
       "        9.800000e+01, 2.420000e+00, 2.650000e+00, 3.700000e-01,\n",
       "        2.080000e+00, 4.600000e+00, 1.190000e+00, 2.300000e+00,\n",
       "        6.780000e+02],\n",
       "       [1.208000e+01, 1.830000e+00, 2.320000e+00, 1.850000e+01,\n",
       "        8.100000e+01, 1.600000e+00, 1.500000e+00, 5.200000e-01,\n",
       "        1.640000e+00, 2.400000e+00, 1.080000e+00, 2.270000e+00,\n",
       "        4.800000e+02],\n",
       "       [1.356000e+01, 1.730000e+00, 2.460000e+00, 2.050000e+01,\n",
       "        1.160000e+02, 2.960000e+00, 2.780000e+00, 2.000000e-01,\n",
       "        2.450000e+00, 6.250000e+00, 9.800000e-01, 3.030000e+00,\n",
       "        1.120000e+03],\n",
       "       [1.402000e+01, 1.680000e+00, 2.210000e+00, 1.600000e+01,\n",
       "        9.600000e+01, 2.650000e+00, 2.330000e+00, 2.600000e-01,\n",
       "        1.980000e+00, 4.700000e+00, 1.040000e+00, 3.590000e+00,\n",
       "        1.035000e+03],\n",
       "       [1.237000e+01, 1.630000e+00, 2.300000e+00, 2.450000e+01,\n",
       "        8.800000e+01, 2.220000e+00, 2.450000e+00, 4.000000e-01,\n",
       "        1.900000e+00, 2.120000e+00, 8.900000e-01, 2.780000e+00,\n",
       "        3.420000e+02],\n",
       "       [1.316000e+01, 3.570000e+00, 2.150000e+00, 2.100000e+01,\n",
       "        1.020000e+02, 1.500000e+00, 5.500000e-01, 4.300000e-01,\n",
       "        1.300000e+00, 4.000000e+00, 6.000000e-01, 1.680000e+00,\n",
       "        8.300000e+02],\n",
       "       [1.358000e+01, 1.660000e+00, 2.360000e+00, 1.910000e+01,\n",
       "        1.060000e+02, 2.860000e+00, 3.190000e+00, 2.200000e-01,\n",
       "        1.950000e+00, 6.900000e+00, 1.090000e+00, 2.880000e+00,\n",
       "        1.515000e+03],\n",
       "       [1.375000e+01, 1.730000e+00, 2.410000e+00, 1.600000e+01,\n",
       "        8.900000e+01, 2.600000e+00, 2.760000e+00, 2.900000e-01,\n",
       "        1.810000e+00, 5.600000e+00, 1.150000e+00, 2.900000e+00,\n",
       "        1.320000e+03],\n",
       "       [1.388000e+01, 1.890000e+00, 2.590000e+00, 1.500000e+01,\n",
       "        1.010000e+02, 3.250000e+00, 3.560000e+00, 1.700000e-01,\n",
       "        1.700000e+00, 5.430000e+00, 8.800000e-01, 3.560000e+00,\n",
       "        1.095000e+03]])"
      ]
     },
     "execution_count": 14,
     "metadata": {},
     "output_type": "execute_result"
    }
   ],
   "source": [
    "X_test"
   ]
  },
  {
   "cell_type": "code",
   "execution_count": 17,
   "id": "5d501a56",
   "metadata": {},
   "outputs": [
    {
     "data": {
      "text/plain": [
       "array([0, 0, 2, 0, 1, 0, 1, 2, 1, 2, 0, 2, 0, 1, 0, 1, 1, 1, 0, 1, 0, 1,\n",
       "       1, 2, 2, 2, 1, 1, 1, 0, 0, 1, 2, 0, 0, 0])"
      ]
     },
     "execution_count": 17,
     "metadata": {},
     "output_type": "execute_result"
    }
   ],
   "source": [
    "y_test"
   ]
  },
  {
   "cell_type": "code",
   "execution_count": 25,
   "id": "d6e817ce",
   "metadata": {},
   "outputs": [],
   "source": [
    "# Use random search CV to hyperparameter tune the Decision Tree\n",
    "param_dist = {\"max_depth\": [3, None],\n",
    "              \"min_samples_split\": randint(2, 11),\n",
    "              \"min_samples_leaf\": randint(1, 11),\n",
    "              \"criterion\": [\"gini\", \"entropy\"]}"
   ]
  },
  {
   "cell_type": "code",
   "execution_count": 49,
   "id": "42225dd0",
   "metadata": {},
   "outputs": [
    {
     "data": {
      "text/html": [
       "<style>#sk-container-id-2 {color: black;background-color: white;}#sk-container-id-2 pre{padding: 0;}#sk-container-id-2 div.sk-toggleable {background-color: white;}#sk-container-id-2 label.sk-toggleable__label {cursor: pointer;display: block;width: 100%;margin-bottom: 0;padding: 0.3em;box-sizing: border-box;text-align: center;}#sk-container-id-2 label.sk-toggleable__label-arrow:before {content: \"▸\";float: left;margin-right: 0.25em;color: #696969;}#sk-container-id-2 label.sk-toggleable__label-arrow:hover:before {color: black;}#sk-container-id-2 div.sk-estimator:hover label.sk-toggleable__label-arrow:before {color: black;}#sk-container-id-2 div.sk-toggleable__content {max-height: 0;max-width: 0;overflow: hidden;text-align: left;background-color: #f0f8ff;}#sk-container-id-2 div.sk-toggleable__content pre {margin: 0.2em;color: black;border-radius: 0.25em;background-color: #f0f8ff;}#sk-container-id-2 input.sk-toggleable__control:checked~div.sk-toggleable__content {max-height: 200px;max-width: 100%;overflow: auto;}#sk-container-id-2 input.sk-toggleable__control:checked~label.sk-toggleable__label-arrow:before {content: \"▾\";}#sk-container-id-2 div.sk-estimator input.sk-toggleable__control:checked~label.sk-toggleable__label {background-color: #d4ebff;}#sk-container-id-2 div.sk-label input.sk-toggleable__control:checked~label.sk-toggleable__label {background-color: #d4ebff;}#sk-container-id-2 input.sk-hidden--visually {border: 0;clip: rect(1px 1px 1px 1px);clip: rect(1px, 1px, 1px, 1px);height: 1px;margin: -1px;overflow: hidden;padding: 0;position: absolute;width: 1px;}#sk-container-id-2 div.sk-estimator {font-family: monospace;background-color: #f0f8ff;border: 1px dotted black;border-radius: 0.25em;box-sizing: border-box;margin-bottom: 0.5em;}#sk-container-id-2 div.sk-estimator:hover {background-color: #d4ebff;}#sk-container-id-2 div.sk-parallel-item::after {content: \"\";width: 100%;border-bottom: 1px solid gray;flex-grow: 1;}#sk-container-id-2 div.sk-label:hover label.sk-toggleable__label {background-color: #d4ebff;}#sk-container-id-2 div.sk-serial::before {content: \"\";position: absolute;border-left: 1px solid gray;box-sizing: border-box;top: 0;bottom: 0;left: 50%;z-index: 0;}#sk-container-id-2 div.sk-serial {display: flex;flex-direction: column;align-items: center;background-color: white;padding-right: 0.2em;padding-left: 0.2em;position: relative;}#sk-container-id-2 div.sk-item {position: relative;z-index: 1;}#sk-container-id-2 div.sk-parallel {display: flex;align-items: stretch;justify-content: center;background-color: white;position: relative;}#sk-container-id-2 div.sk-item::before, #sk-container-id-2 div.sk-parallel-item::before {content: \"\";position: absolute;border-left: 1px solid gray;box-sizing: border-box;top: 0;bottom: 0;left: 50%;z-index: -1;}#sk-container-id-2 div.sk-parallel-item {display: flex;flex-direction: column;z-index: 1;position: relative;background-color: white;}#sk-container-id-2 div.sk-parallel-item:first-child::after {align-self: flex-end;width: 50%;}#sk-container-id-2 div.sk-parallel-item:last-child::after {align-self: flex-start;width: 50%;}#sk-container-id-2 div.sk-parallel-item:only-child::after {width: 0;}#sk-container-id-2 div.sk-dashed-wrapped {border: 1px dashed gray;margin: 0 0.4em 0.5em 0.4em;box-sizing: border-box;padding-bottom: 0.4em;background-color: white;}#sk-container-id-2 div.sk-label label {font-family: monospace;font-weight: bold;display: inline-block;line-height: 1.2em;}#sk-container-id-2 div.sk-label-container {text-align: center;}#sk-container-id-2 div.sk-container {/* jupyter's `normalize.less` sets `[hidden] { display: none; }` but bootstrap.min.css set `[hidden] { display: none !important; }` so we also need the `!important` here to be able to override the default hidden behavior on the sphinx rendered scikit-learn.org. See: https://github.com/scikit-learn/scikit-learn/issues/21755 */display: inline-block !important;position: relative;}#sk-container-id-2 div.sk-text-repr-fallback {display: none;}</style><div id=\"sk-container-id-2\" class=\"sk-top-container\"><div class=\"sk-text-repr-fallback\"><pre>RandomizedSearchCV(estimator=DecisionTreeClassifier(), n_iter=100,\n",
       "                   param_distributions={&#x27;criterion&#x27;: [&#x27;gini&#x27;, &#x27;entropy&#x27;],\n",
       "                                        &#x27;max_depth&#x27;: [3, None],\n",
       "                                        &#x27;min_samples_leaf&#x27;: &lt;scipy.stats._distn_infrastructure.rv_discrete_frozen object at 0x00000270ADFBE050&gt;,\n",
       "                                        &#x27;min_samples_split&#x27;: &lt;scipy.stats._distn_infrastructure.rv_discrete_frozen object at 0x00000270ADDF2350&gt;},\n",
       "                   random_state=42)</pre><b>In a Jupyter environment, please rerun this cell to show the HTML representation or trust the notebook. <br />On GitHub, the HTML representation is unable to render, please try loading this page with nbviewer.org.</b></div><div class=\"sk-container\" hidden><div class=\"sk-item sk-dashed-wrapped\"><div class=\"sk-label-container\"><div class=\"sk-label sk-toggleable\"><input class=\"sk-toggleable__control sk-hidden--visually\" id=\"sk-estimator-id-4\" type=\"checkbox\" ><label for=\"sk-estimator-id-4\" class=\"sk-toggleable__label sk-toggleable__label-arrow\">RandomizedSearchCV</label><div class=\"sk-toggleable__content\"><pre>RandomizedSearchCV(estimator=DecisionTreeClassifier(), n_iter=100,\n",
       "                   param_distributions={&#x27;criterion&#x27;: [&#x27;gini&#x27;, &#x27;entropy&#x27;],\n",
       "                                        &#x27;max_depth&#x27;: [3, None],\n",
       "                                        &#x27;min_samples_leaf&#x27;: &lt;scipy.stats._distn_infrastructure.rv_discrete_frozen object at 0x00000270ADFBE050&gt;,\n",
       "                                        &#x27;min_samples_split&#x27;: &lt;scipy.stats._distn_infrastructure.rv_discrete_frozen object at 0x00000270ADDF2350&gt;},\n",
       "                   random_state=42)</pre></div></div></div><div class=\"sk-parallel\"><div class=\"sk-parallel-item\"><div class=\"sk-item\"><div class=\"sk-label-container\"><div class=\"sk-label sk-toggleable\"><input class=\"sk-toggleable__control sk-hidden--visually\" id=\"sk-estimator-id-5\" type=\"checkbox\" ><label for=\"sk-estimator-id-5\" class=\"sk-toggleable__label sk-toggleable__label-arrow\">estimator: DecisionTreeClassifier</label><div class=\"sk-toggleable__content\"><pre>DecisionTreeClassifier()</pre></div></div></div><div class=\"sk-serial\"><div class=\"sk-item\"><div class=\"sk-estimator sk-toggleable\"><input class=\"sk-toggleable__control sk-hidden--visually\" id=\"sk-estimator-id-6\" type=\"checkbox\" ><label for=\"sk-estimator-id-6\" class=\"sk-toggleable__label sk-toggleable__label-arrow\">DecisionTreeClassifier</label><div class=\"sk-toggleable__content\"><pre>DecisionTreeClassifier()</pre></div></div></div></div></div></div></div></div></div></div>"
      ],
      "text/plain": [
       "RandomizedSearchCV(estimator=DecisionTreeClassifier(), n_iter=100,\n",
       "                   param_distributions={'criterion': ['gini', 'entropy'],\n",
       "                                        'max_depth': [3, None],\n",
       "                                        'min_samples_leaf': <scipy.stats._distn_infrastructure.rv_discrete_frozen object at 0x00000270ADFBE050>,\n",
       "                                        'min_samples_split': <scipy.stats._distn_infrastructure.rv_discrete_frozen object at 0x00000270ADDF2350>},\n",
       "                   random_state=42)"
      ]
     },
     "execution_count": 49,
     "metadata": {},
     "output_type": "execute_result"
    }
   ],
   "source": [
    "random_search = RandomizedSearchCV(DecisionTreeClassifier(), param_distributions=param_dist, n_iter=100, random_state=42)\n",
    "random_search.fit(X_train, y_train)"
   ]
  },
  {
   "cell_type": "code",
   "execution_count": 50,
   "id": "c13f142e",
   "metadata": {},
   "outputs": [
    {
     "name": "stdout",
     "output_type": "stream",
     "text": [
      "Best hyperparameters for Decision Tree: {'criterion': 'entropy', 'max_depth': 3, 'min_samples_leaf': 2, 'min_samples_split': 6}\n"
     ]
    }
   ],
   "source": [
    "print(\"Best hyperparameters for Decision Tree:\", random_search.best_params_)"
   ]
  },
  {
   "cell_type": "code",
   "execution_count": 51,
   "id": "1c75c7d1",
   "metadata": {},
   "outputs": [
    {
     "name": "stdout",
     "output_type": "stream",
     "text": [
      "Decision Tree Accuracy: 0.9166666666666666\n"
     ]
    }
   ],
   "source": [
    "#Evaluate Decision Tree on the test dataset\n",
    "dt_accuracy = accuracy_score(y_test, random_search.predict(X_test))\n",
    "print(\"Decision Tree Accuracy:\", dt_accuracy)"
   ]
  },
  {
   "cell_type": "code",
   "execution_count": 52,
   "id": "da170b34",
   "metadata": {},
   "outputs": [],
   "source": [
    "#Grow a random forest\n",
    "subset_size = len(X_train) // 10\n",
    "rs = ShuffleSplit(n_splits=10, test_size=subset_size, random_state=42)"
   ]
  },
  {
   "cell_type": "code",
   "execution_count": 53,
   "id": "6674e1f3",
   "metadata": {},
   "outputs": [],
   "source": [
    "forest = []\n",
    "\n",
    "for train_index, _ in rs.split(X_train):\n",
    "    tree = DecisionTreeClassifier(**random_search.best_params_)\n",
    "    tree.fit(X_train[train_index], y_train[train_index])\n",
    "    forest.append(tree)"
   ]
  },
  {
   "cell_type": "code",
   "execution_count": 54,
   "id": "6d078df3",
   "metadata": {},
   "outputs": [],
   "source": [
    "#Evaluate Random Forest on the test dataset\n",
    "rf_predictions = np.zeros((X_test.shape[0], len(forest)))\n",
    "for i, tree in enumerate(forest):\n",
    "    rf_predictions[:, i] = tree.predict(X_test)"
   ]
  },
  {
   "cell_type": "code",
   "execution_count": 55,
   "id": "18d3d633",
   "metadata": {},
   "outputs": [
    {
     "name": "stdout",
     "output_type": "stream",
     "text": [
      "Random Forest Accuracy: 0.9166666666666666\n"
     ]
    }
   ],
   "source": [
    "rf_predictions_majority_vote = np.apply_along_axis(lambda x: np.bincount(np.round(x).astype(int)).argmax(), axis=1, arr=rf_predictions)\n",
    "rf_accuracy = accuracy_score(y_test, rf_predictions_majority_vote)\n",
    "print(\"Random Forest Accuracy:\", rf_accuracy)\n"
   ]
  },
  {
   "cell_type": "code",
   "execution_count": null,
   "id": "5a17f7f5",
   "metadata": {},
   "outputs": [],
   "source": []
  },
  {
   "cell_type": "code",
   "execution_count": null,
   "id": "94985a72",
   "metadata": {},
   "outputs": [],
   "source": []
  },
  {
   "cell_type": "code",
   "execution_count": null,
   "id": "d8734652",
   "metadata": {},
   "outputs": [],
   "source": []
  },
  {
   "cell_type": "code",
   "execution_count": null,
   "id": "5bace527",
   "metadata": {},
   "outputs": [],
   "source": []
  },
  {
   "cell_type": "code",
   "execution_count": null,
   "id": "bc0cd2cf",
   "metadata": {},
   "outputs": [],
   "source": []
  },
  {
   "cell_type": "code",
   "execution_count": null,
   "id": "4d9f489b",
   "metadata": {},
   "outputs": [],
   "source": []
  },
  {
   "cell_type": "code",
   "execution_count": null,
   "id": "55c29414",
   "metadata": {},
   "outputs": [],
   "source": []
  },
  {
   "cell_type": "code",
   "execution_count": null,
   "id": "bbad974f",
   "metadata": {},
   "outputs": [],
   "source": []
  },
  {
   "cell_type": "code",
   "execution_count": null,
   "id": "d5ed2a9e",
   "metadata": {},
   "outputs": [],
   "source": []
  },
  {
   "cell_type": "code",
   "execution_count": null,
   "id": "f80bebab",
   "metadata": {},
   "outputs": [],
   "source": []
  }
 ],
 "metadata": {
  "kernelspec": {
   "display_name": "Python 3 (ipykernel)",
   "language": "python",
   "name": "python3"
  },
  "language_info": {
   "codemirror_mode": {
    "name": "ipython",
    "version": 3
   },
   "file_extension": ".py",
   "mimetype": "text/x-python",
   "name": "python",
   "nbconvert_exporter": "python",
   "pygments_lexer": "ipython3",
   "version": "3.10.9"
  }
 },
 "nbformat": 4,
 "nbformat_minor": 5
}
