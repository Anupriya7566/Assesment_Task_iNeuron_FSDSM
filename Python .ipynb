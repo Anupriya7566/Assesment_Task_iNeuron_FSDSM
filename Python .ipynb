{
 "cells": [
  {
   "cell_type": "markdown",
   "id": "beb2ace8",
   "metadata": {},
   "source": [
    "# Question: 1\n",
    "### You have an input dictionary given,\n",
    "\n",
    "##### input_dict = {\"abc\":{\"def\":{\"ghi\":{\"jkl\":{\"mno\":{\"pqr\":{\"stu\":{\"vwx\":{\"yz\":\"you are finally here !!!\"}}}}}}}}}\n"
   ]
  },
  {
   "cell_type": "code",
   "execution_count": 20,
   "id": "6ece038b",
   "metadata": {},
   "outputs": [],
   "source": [
    "from pprint import pprint\n",
    "\n",
    "data = {\"abc\":{\"def\":{\"ghi\":{\"jkl\":{\"mno\":{\"pqr\":{\"stu\":{\"vwx\":{\"yz\":\"you are finally here !!!\"}}}}}}}}}"
   ]
  },
  {
   "cell_type": "code",
   "execution_count": 21,
   "id": "99e006c6",
   "metadata": {},
   "outputs": [],
   "source": [
    "def a_particular_style(data):\n",
    "    ret = {}\n",
    "    for k, v in data.items():\n",
    "        if isinstance(v, dict):\n",
    "            d = a_particular_style(v)\n",
    "            ret.update(d)\n",
    "            ret[k] = list(reversed(d))\n",
    "        else:\n",
    "            ret[k] = [v]\n",
    "    return ret"
   ]
  },
  {
   "cell_type": "code",
   "execution_count": 22,
   "id": "f5b4f23e",
   "metadata": {},
   "outputs": [
    {
     "name": "stdout",
     "output_type": "stream",
     "text": [
      "{'abc': ['def', 'ghi', 'jkl', 'mno', 'pqr', 'stu', 'vwx', 'yz'],\n",
      " 'def': ['ghi', 'jkl', 'mno', 'pqr', 'stu', 'vwx', 'yz'],\n",
      " 'ghi': ['jkl', 'mno', 'pqr', 'stu', 'vwx', 'yz'],\n",
      " 'jkl': ['mno', 'pqr', 'stu', 'vwx', 'yz'],\n",
      " 'mno': ['pqr', 'stu', 'vwx', 'yz'],\n",
      " 'pqr': ['stu', 'vwx', 'yz'],\n",
      " 'stu': ['vwx', 'yz'],\n",
      " 'vwx': ['yz'],\n",
      " 'yz': ['you are finally here !!!']}\n"
     ]
    }
   ],
   "source": [
    "pprint(a_particular_style(data))"
   ]
  },
  {
   "cell_type": "markdown",
   "id": "df7e3ab5",
   "metadata": {},
   "source": [
    "# Question: 2\n",
    "\n",
    "###Given an array of length ‘N’, where each element denotes the position of a stall. Now you have ‘N’ stalls and an integer ‘K’ which denotes the number of horses that are mad. To prevent the horses from hurting each other, you need to assign the horses to the stalls, such that the minimum distance between any two of them is as large as possible. Return the largest minimum distance.\n",
    "\n",
    "##array: 1,2,4,8,9  &  k=3"
   ]
  },
  {
   "cell_type": "code",
   "execution_count": 12,
   "id": "8706847a",
   "metadata": {},
   "outputs": [],
   "source": [
    "def count_horses(stalls, distance):\n",
    "    count = 1\n",
    "    last_position = stalls[0]\n",
    "    for position in stalls:\n",
    "        if position - last_position >= distance:\n",
    "            count += 1\n",
    "            last_position = position\n",
    "    return count"
   ]
  },
  {
   "cell_type": "code",
   "execution_count": 17,
   "id": "a2ffbdfc",
   "metadata": {},
   "outputs": [],
   "source": [
    "def largest_minimum_distance(stalls, horses):\n",
    "    stalls.sort()\n",
    "    left, right = 1, stalls[-1] - stalls[0]\n",
    "    result = 0\n",
    "    while left <= right:\n",
    "        mid = (left + right) // 2\n",
    "        if count_horses(stalls, mid) >= horses:\n",
    "            result = mid\n",
    "            left = mid + 1\n",
    "        else:\n",
    "            right = mid - 1\n",
    "    return result"
   ]
  },
  {
   "cell_type": "code",
   "execution_count": 18,
   "id": "e58cdbfe",
   "metadata": {},
   "outputs": [
    {
     "name": "stdout",
     "output_type": "stream",
     "text": [
      "3\n"
     ]
    }
   ],
   "source": [
    "\n",
    "array = [1, 2, 4, 8, 9]\n",
    "k = 3\n",
    "print(largest_minimum_distance(array, k)) "
   ]
  },
  {
   "cell_type": "markdown",
   "id": "733e3f93",
   "metadata": {},
   "source": [
    "# Question 3\n",
    "\n",
    "## Mr. Karthiken works in a door mat manufacturing company. One day, he designed a new door mat with the following specifications:\n",
    "\n",
    "### a) Mat size must be N X M. (N is an odd natural number, and M is 3 times N.)\n",
    "### b) The design should have ‘WELCOME’ written in the center.\n",
    "### c) The design pattern should only use |, . and – characters.\n",
    "### Sample Design is given above image, Write a python code for this."
   ]
  },
  {
   "cell_type": "code",
   "execution_count": 27,
   "id": "9308f057",
   "metadata": {},
   "outputs": [
    {
     "name": "stdout",
     "output_type": "stream",
     "text": [
      "---------.|.---------\n",
      "------.|..|..|.------\n",
      "---.|..|..|..|..|.---\n",
      "-------WELCOME-------\n",
      "---.|..|..|..|..|.---\n",
      "------.|..|..|.------\n",
      "---------.|.---------\n",
      "---------------.|.---------------\n",
      "------------.|..|..|.------------\n",
      "---------.|..|..|..|..|.---------\n",
      "------.|..|..|..|..|..|..|.------\n",
      "---.|..|..|..|..|..|..|..|..|.---\n",
      "-------------WELCOME-------------\n",
      "---.|..|..|..|..|..|..|..|..|.---\n",
      "------.|..|..|..|..|..|..|.------\n",
      "---------.|..|..|..|..|.---------\n",
      "------------.|..|..|.------------\n",
      "---------------.|.---------------\n"
     ]
    }
   ],
   "source": [
    "def create_door_mat(N, M):\n",
    "\n",
    "    for i in range(N//2):\n",
    "        pattern = \".|.\" * (2*i + 1)\n",
    "        print(pattern.center(M, '-'))\n",
    "\n",
    "    print(\"WELCOME\".center(M, '-'))\n",
    "\n",
    "    for i in range(N//2-1, -1, -1):\n",
    "        pattern = \".|.\" * (2*i + 1)\n",
    "        print(pattern.center(M, '-'))\n",
    "\n",
    "N = 7 \n",
    "M = 21  \n",
    "create_door_mat(N, M)\n",
    "\n",
    "N = 11 \n",
    "M = 33 \n",
    "create_door_mat(N, M)"
   ]
  },
  {
   "cell_type": "markdown",
   "id": "3b12273a",
   "metadata": {},
   "source": [
    "# Question: 4\n",
    "\n",
    "### Given an array nums of n integers, return an array of all the unique quadruplets [nums[a], nums[b], nums[c], nums[d]] such that:\n",
    "#### a) 0 <= a, b, c, d < n\n",
    "#### b) a, b, c, and d are distinct.\n",
    "#### c) nums[a] + nums[b] + nums[c] + nums[d] == target"
   ]
  },
  {
   "cell_type": "code",
   "execution_count": 33,
   "id": "d32b0a8a",
   "metadata": {},
   "outputs": [
    {
     "name": "stdout",
     "output_type": "stream",
     "text": [
      "[[-2, -1, 1, 2], [-2, 0, 0, 2], [-1, 0, 0, 1]]\n"
     ]
    }
   ],
   "source": [
    "def find_quadruplets(nums, target):\n",
    "\n",
    "  nums.sort()\n",
    "\n",
    "  result = []\n",
    "  n = len(nums)\n",
    "\n",
    "  # Iterate through the list\n",
    "  for i in range(n - 3):\n",
    " \n",
    "    if i > 0 and nums[i] == nums[i - 1]:\n",
    "      continue\n",
    "    for j in range(i + 1, n - 2):\n",
    "      if j > i + 1 and nums[j] == nums[j - 1]:\n",
    "        continue\n",
    "      left, right = j + 1, n - 1\n",
    "     \n",
    "      while left < right:\n",
    "        quad_sum = nums[i] + nums[j] + nums[left] + nums[right]\n",
    "        if quad_sum == target:\n",
    "          result.append([nums[i], nums[j], nums[left], nums[right]])\n",
    "          left += 1\n",
    "          right -= 1\n",
    "        elif quad_sum < target:\n",
    "          left += 1\n",
    "        else:\n",
    "          right -= 1\n",
    "\n",
    "  return result\n",
    "\n",
    "nums = [1, 0, -1, 0, -2, 2]\n",
    "target = 0\n",
    "\n",
    "quadruplets = find_quadruplets(nums, target)\n",
    "print(quadruplets)  # Output: [[-2, 0, 0, 2], [-1, 0, 1, 0]]"
   ]
  },
  {
   "cell_type": "code",
   "execution_count": null,
   "id": "ecf5d2c2",
   "metadata": {},
   "outputs": [],
   "source": []
  }
 ],
 "metadata": {
  "kernelspec": {
   "display_name": "Python 3 (ipykernel)",
   "language": "python",
   "name": "python3"
  },
  "language_info": {
   "codemirror_mode": {
    "name": "ipython",
    "version": 3
   },
   "file_extension": ".py",
   "mimetype": "text/x-python",
   "name": "python",
   "nbconvert_exporter": "python",
   "pygments_lexer": "ipython3",
   "version": "3.10.9"
  }
 },
 "nbformat": 4,
 "nbformat_minor": 5
}
